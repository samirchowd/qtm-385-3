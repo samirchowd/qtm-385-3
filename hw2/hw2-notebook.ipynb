{
 "cells": [
  {
   "cell_type": "code",
   "execution_count": 1,
   "id": "481ad1f3-6ed9-451b-a16f-912a9263c9ad",
   "metadata": {},
   "outputs": [],
   "source": [
    "import numpy as np \n",
    "import scipy as sp\n",
    "import pandas as pd \n",
    "import seaborn as sns\n",
    "import matplotlib.pyplot as plt\n",
    "from pprint import pprint"
   ]
  },
  {
   "cell_type": "markdown",
   "id": "7f630b4a-59bb-4a5e-8f07-a55e6fe66881",
   "metadata": {},
   "source": [
    "# Problem 1\n",
    "Suppose your expectations regarding the stock price are as follows:\n",
    "<div>\n",
    "<img src=\"fig1.png\" width=\"500\"/>\n",
    "</div>\n",
    "Compute the mean and standard deviation of the HPR on stocks."
   ]
  },
  {
   "cell_type": "code",
   "execution_count": 2,
   "id": "16c3bd20-3f4a-4000-82d8-881e98c075b5",
   "metadata": {},
   "outputs": [
    {
     "name": "stdout",
     "output_type": "stream",
     "text": [
      "E(r) = 0.10, Variance = 0.028\n"
     ]
    }
   ],
   "source": [
    "ps, rs = np.asarray([0.35, 0.30, 0.35]), np.asarray([.3,.1,-.1])\n",
    "expected_return = np.sum(ps*rs)\n",
    "var = np.sum(ps*(rs - expected_return)**2)\n",
    "print(f\"E(r) = {expected_return:.2f}, Variance = {var:.3f}\")"
   ]
  },
  {
   "cell_type": "markdown",
   "id": "8e297fc0-855b-4508-b759-16f36629e6ff",
   "metadata": {},
   "source": [
    "# Problem 2 \n",
    "Visit Professor Kenneth French’s data library Web site: https://mba.tuck.dartmouth.edu/pages/faculty/ken.french/data_library.html and download the monthly returns\n",
    "of “Fama/French 3 Factors” from January 1927–December 2022. Split the sample in half.\n",
    "For each of the market (Mkt-RF) factor, small minus big (SML) factor, and high minus low\n",
    "(HML) factor for the two halves, plot the histogram of the monthly returns, and compute:\n",
    "\n",
    "•average \n",
    "\n",
    "•SD\n",
    "\n",
    "•skew\n",
    "\n",
    "•kurtosis\n",
    "\n",
    "•1% value at risk (VaR)\n",
    "\n",
    "•1% expected shortfall (ES)\n",
    "\n",
    "Do the three split-halves statistics suggest to you that returns come from the same distribution over the entire period?"
   ]
  },
  {
   "cell_type": "code",
   "execution_count": 3,
   "id": "06eeeef1-285e-4645-a8b3-38ddbc9f69d6",
   "metadata": {},
   "outputs": [],
   "source": [
    "# Reading in cleaned up data\n",
    "df = pd.read_csv('data_adj.csv')\n",
    "\n",
    "# Converting date number to date object\n",
    "df['Date'] = pd.to_datetime(df['Date'].apply(lambda x: '/'.join((str(x)[4:], str(x)[:4]))), format=\"%m/%Y\")\n",
    "\n",
    "# Splitting data into two halves \n",
    "left, right = df.iloc[:len(df)//2], df.iloc[len(df)//2:]"
   ]
  },
  {
   "cell_type": "code",
   "execution_count": 4,
   "id": "4434aac3-7dba-47cc-aa13-5de23061b0a3",
   "metadata": {},
   "outputs": [
    {
     "name": "stdout",
     "output_type": "stream",
     "text": [
      "{'left': {'HML': {'avg': 0.4618998272884282,\n",
      "                  'es': -10.549999999999999,\n",
      "                  'kurtosis': 22.439537698558624,\n",
      "                  'sd': 3.9655493797056987,\n",
      "                  'skew': 2.94581094169044,\n",
      "                  'var': -8.3672},\n",
      "          'Mkt-RF': {'avg': 0.6180138169257341,\n",
      "                     'es': -22.248333333333335,\n",
      "                     'kurtosis': 8.314098035924761,\n",
      "                     'sd': 6.0266352693629965,\n",
      "                     'skew': 0.4632693183567077,\n",
      "                     'var': -16.6418},\n",
      "          'SMB': {'avg': 0.1907253886010363,\n",
      "                  'es': -7.928333333333334,\n",
      "                  'kurtosis': 26.425659072408248,\n",
      "                  'sd': 3.3310506766264485,\n",
      "                  'skew': 2.8417958186684777,\n",
      "                  'var': -6.7238}},\n",
      " 'right': {'HML': {'avg': 0.259671848013817,\n",
      "                   'es': -10.264999999999999,\n",
      "                   'kurtosis': 2.3250666670796702,\n",
      "                   'sd': 3.1007416901055165,\n",
      "                   'skew': 0.14600859281107745,\n",
      "                   'var': -8.3222},\n",
      "           'Mkt-RF': {'avg': 0.7174784110535407,\n",
      "                      'es': -15.791666666666666,\n",
      "                      'kurtosis': 1.9417169562025078,\n",
      "                      'sd': 4.57644629092039,\n",
      "                      'skew': -0.5222895238722745,\n",
      "                      'var': -10.9818},\n",
      "           'SMB': {'avg': 0.1878411053540587,\n",
      "                   'es': -9.246666666666666,\n",
      "                   'kurtosis': 6.351103087837782,\n",
      "                   'sd': 2.9960256925755613,\n",
      "                   'skew': 0.457356783764709,\n",
      "                   'var': -6.3202}}}\n"
     ]
    }
   ],
   "source": [
    "def avg(x):\n",
    "    return np.mean(x)\n",
    "def sd(x):\n",
    "    return np.std(x)\n",
    "def skew(x):\n",
    "    return sp.stats.skew(x)\n",
    "def kurtosis(x):\n",
    "    return sp.stats.kurtosis(x)\n",
    "def var(x, quantile=0.01):\n",
    "    return np.quantile(x, quantile)\n",
    "def es(x, quantile=0.01):\n",
    "    q = var(x, quantile)\n",
    "    return x[x < q].mean() \n",
    "\n",
    "dicts = {}\n",
    "for i, data in enumerate([left, right]):\n",
    "    side = {} \n",
    "    for ret in ['Mkt-RF', 'SMB', 'HML']:\n",
    "        d = {}\n",
    "        d['avg'] = avg(data[ret])\n",
    "        d['sd'] = sd(data[ret])\n",
    "        d['skew'] = skew(data[ret])\n",
    "        d['kurtosis'] = kurtosis(data[ret])\n",
    "        d['var'] = var(data[ret])\n",
    "        d['es'] = es(data[ret])\n",
    "        side[ret] = d\n",
    "    if i == 0:\n",
    "        dicts['left'] = side\n",
    "    else:\n",
    "        dicts['right'] = side\n",
    "pprint(dicts)"
   ]
  },
  {
   "cell_type": "code",
   "execution_count": 5,
   "id": "c1e72d4a-fcec-4526-b4ae-79aa1dc1232f",
   "metadata": {},
   "outputs": [
    {
     "data": {
      "image/png": "[encoded data removed]",
      "text/plain": [
       "<Figure size 640x480 with 1 Axes>"
      ]
     },
     "metadata": {},
     "output_type": "display_data"
    }
   ],
   "source": [
    "# Market RF\n",
    "sns.histplot(data=left, x='Mkt-RF', label='left')\n",
    "sns.histplot(data=right, x='Mkt-RF', label='right')\n",
    "plt.title(\"Histogram of Mkt-RF\")\n",
    "plt.legend()\n",
    "plt.show()"
   ]
  },
  {
   "cell_type": "code",
   "execution_count": 6,
   "id": "ef32d49c-e4c2-4e2d-8c44-06bf6e422a51",
   "metadata": {},
   "outputs": [
    {
     "data": {
      "image/png": "[encoded data removed]",
      "text/plain": [
       "<Figure size 640x480 with 1 Axes>"
      ]
     },
     "metadata": {},
     "output_type": "display_data"
    }
   ],
   "source": [
    "# SML\n",
    "sns.histplot(data=left, x='SMB', label='left')\n",
    "sns.histplot(data=right, x='SMB', label='right')\n",
    "plt.title(\"Histogram of SMB\")\n",
    "plt.legend()\n",
    "plt.show()"
   ]
  },
  {
   "cell_type": "code",
   "execution_count": 7,
   "id": "059e6973-0b29-44e0-b4d3-fd3082113f22",
   "metadata": {},
   "outputs": [
    {
     "data": {
      "image/png": "[encoded data removed]",
      "text/plain": [
       "<Figure size 640x480 with 1 Axes>"
      ]
     },
     "metadata": {},
     "output_type": "display_data"
    }
   ],
   "source": [
    "# SML\n",
    "sns.histplot(data=left, x='HML', label='left')\n",
    "sns.histplot(data=right, x='HML', label='right')\n",
    "plt.title(\"Histogram of HML\")\n",
    "plt.legend()\n",
    "plt.show()"
   ]
  },
  {
   "cell_type": "markdown",
   "id": "eab5d8fc-117b-4f2b-884e-afe43c6093fa",
   "metadata": {},
   "source": [
    "Based of the plots and the and the calculated metrics about the left and right half, it seems that they are from the same distribution over the entire period."
   ]
  },
  {
   "cell_type": "markdown",
   "id": "4fedfeee-69d4-47bf-af2a-e8320c3708d4",
   "metadata": {},
   "source": [
    "# Problem 3\n",
    "You manage a risky portfolio with an expected rate of return of 20% and a standard\n",
    "deviation of 30%. The T-bill rate is 5%."
   ]
  },
  {
   "cell_type": "markdown",
   "id": "79254bdd-411c-4c76-a8ab-0dde1a9d4c5f",
   "metadata": {},
   "source": [
    "<img src=\"p3.jpeg\" alt=\"Alternative text\" />"
   ]
  },
  {
   "cell_type": "markdown",
   "id": "82ab84a9-f047-4b49-a133-cb0467f53ce8",
   "metadata": {},
   "source": [
    "# Problem 4\n",
    "A pension fund manager is considering three mutual funds. The first is a stock fund, the\n",
    "second is a long-term bond fund, and the third is a money market fund that provides a safe\n",
    "return of 5%. The characteristics of the risky funds are as follows:\n",
    "\n",
    "Expected Return Standard Deviation\n",
    "\n",
    "Stock fund (S) 20% 30%\n",
    "\n",
    "Bond fund (B) 10% 10%\n",
    "\n",
    "The correlation between the fund returns is .20.\n",
    "\n",
    "(a) [4pts] What are the investment proportions in the minimum-variance portfolio of the\n",
    "two risky funds, and what are the expected value and standard deviation of its rate of\n",
    "return?\n",
    "\n",
    "(b) [4pts] Tabulate and draw the investment opportunity set of the two risky funds. Use\n",
    "investment proportions for the stock fund of 0% to 100% in increments of 10%.\n",
    "\n",
    "(c) [4pts] Draw a tangent from the risk-free rate to the opportunity set. What does your\n",
    "graph show for the expected return and standard deviation of the optimal portfolio?\n",
    "\n",
    "(d) [4pts] Solve numerically for the proportions of each asset and for the expected return\n",
    "and standard deviation of the optimal risky portfolio.\n",
    "\n",
    "(e) [4pts] What is the Sharpe ratio of the best feasible CAL?\n",
    "\n",
    "(f) [6pts] You require that your portfolio yield an expected return of 12%, and that it be\n",
    "efficient, that is, on the steepest feasible CAL.\n",
    "\n",
    "•[3pts] What is the standard deviation of your portfolio?\n",
    "\n",
    "•[3pts] What is the proportion invested in the money market fund and each of the\n",
    "two risky funds?\n",
    "\n",
    "(g) [4pts] If you were to use only the two risky funds and still require an expected return\n",
    "of 12%, what would be the investment proportions of your portfolio? Compare its\n",
    "standard deviation to that of the optimized portfolio in (f). What do you conclude?"
   ]
  },
  {
   "cell_type": "code",
   "execution_count": 8,
   "id": "2bca7f94-5869-49be-a56e-88c5b0101037",
   "metadata": {},
   "outputs": [
    {
     "name": "stdout",
     "output_type": "stream",
     "text": [
      "(a) The variance minizing portfolio allocation is 95.454545% in bonds and 4.545455% in equities\n",
      "    The return and standard deviation are: 10.45% and 9.91%\n"
     ]
    }
   ],
   "source": [
    "# Defining portfolio characteristics\n",
    "s_ret = .2\n",
    "s_sd = .3\n",
    "b_ret = .1\n",
    "b_sd = .1\n",
    "corr = .2\n",
    "rf = .05\n",
    "\n",
    "# Finding variance minizing values \n",
    "cov = corr * s_sd * b_sd\n",
    "w_d = ((s_sd)**2 - cov) / (s_sd**2 + b_sd**2 - 2*cov)\n",
    "w_e = 1 - w_d\n",
    "opt_ret = s_ret*w_e + b_ret*w_d\n",
    "opt_var= (w_d**2) * (b_sd**2) + (w_e**2) * (s_sd**2) + (2 * w_d * w_e * cov)\n",
    "print(f\"(a) The variance minizing portfolio allocation is {w_d*100:2f}% in bonds and\"+ \\\n",
    "      f\" {w_e*100:2f}% in equities\\n    The return and standard deviation are: {opt_ret*100:.2f}% and {np.sqrt(opt_var)*100:.2f}%\")"
   ]
  },
  {
   "cell_type": "code",
   "execution_count": 9,
   "id": "3a898829-25ea-46ff-a513-604bb4d3578a",
   "metadata": {},
   "outputs": [
    {
     "data": {
      "image/png": "[encoded data removed]",
      "text/plain": [
       "<Figure size 500x500 with 1 Axes>"
      ]
     },
     "metadata": {},
     "output_type": "display_data"
    },
    {
     "name": "stdout",
     "output_type": "stream",
     "text": [
      "(b) See plot\n",
      "(c) The tangent line intersects the opportunity set at the perfect hedging position (when portfolios are perfectly negatively correlated and maximizes the sharpe ratio\n"
     ]
    }
   ],
   "source": [
    "# Weights given perfeclty negatively correlated / maximizing sharp ratio\n",
    "tan_d = s_sd / (s_sd + b_sd)\n",
    "tan_e = 1 - tan_d\n",
    "opt_ret = s_ret*tan_e + b_ret*tan_d\n",
    "opt_var= (tan_d**2) * (b_sd**2) + (tan_e**2) * (s_sd**2) + (2 * tan_d * tan_e * cov)\n",
    "\n",
    "# Creating the opportunity set\n",
    "rets, vari = [], []\n",
    "for i in range(0, 110, 10):\n",
    "    w_d = i / 100\n",
    "    w_e = 1 - w_d\n",
    "    p_ret = s_ret*w_e + b_ret*w_d\n",
    "    p_var= w_d**2 * b_sd**2 + w_e**2 * s_sd**2 + 2 * w_d * w_e * cov\n",
    "    rets.append(p_ret), vari.append(p_var)\n",
    "\n",
    "# Plotting the opportunity set and the tangent line     \n",
    "m = (opt_ret - rf) / (np.sqrt(opt_var))\n",
    "g = sns.relplot(x=np.sqrt(vari), y=rets)\n",
    "g.ax.axline(xy1=(0, rf), slope=m)\n",
    "plt.show()\n",
    "print(f\"(b) See plot\\n(c) The tangent line intersects the opportunity set at the perfect hedging position (when portfolios are perfectly negatively correlated and maximizes the sharpe ratio\")"
   ]
  },
  {
   "cell_type": "code",
   "execution_count": 10,
   "id": "30e0a836-ffca-4696-95c0-8fbc76cbbf78",
   "metadata": {},
   "outputs": [
    {
     "name": "stdout",
     "output_type": "stream",
     "text": [
      "(d) Stock: 25.00%, Bond: 75.00%, Return: 12.50%, Stdev: 11.62%\n"
     ]
    }
   ],
   "source": [
    "print(f\"(d) Stock: {tan_e*100:.2f}%, Bond: {tan_d*100:.2f}%, Return: {opt_ret*100:.2f}%, Stdev: {np.sqrt(opt_var)*100:.2f}%\")"
   ]
  },
  {
   "cell_type": "code",
   "execution_count": 11,
   "id": "dc85b66a-0278-40c2-b751-b3aa276f1394",
   "metadata": {},
   "outputs": [
    {
     "name": "stdout",
     "output_type": "stream",
     "text": [
      "(e) The sharpe ratio is 0.64550\n"
     ]
    }
   ],
   "source": [
    "sharpe = (opt_ret - rf) / np.sqrt(opt_var)\n",
    "print(f\"(e) The sharpe ratio is {sharpe:.5f}\")"
   ]
  },
  {
   "cell_type": "code",
   "execution_count": 12,
   "id": "a9f0d538-d471-49e3-9f38-17434d92d9e9",
   "metadata": {},
   "outputs": [
    {
     "name": "stdout",
     "output_type": "stream",
     "text": [
      "(f): The standard deviation: 10.84%, The proportion invested in risky and risk free: 93.33 and 6.67%\n"
     ]
    }
   ],
   "source": [
    "sigma_c = (.12-rf)/sharpe\n",
    "y_c = (.12-rf)/(opt_ret-rf)\n",
    "print(f\"(f): The standard deviation: {sigma_c*100:.2f}%, The proportion invested in risky and risk free: {y_c*100:.2f} and {(1-y_c)*100:.2f}%\")"
   ]
  },
  {
   "cell_type": "code",
   "execution_count": 13,
   "id": "09ae2f28-dd4c-4432-aa89-edd252306e11",
   "metadata": {},
   "outputs": [],
   "source": [
    "#((b_ret-rf)*(s_sd**2)-(s_ret-rf)*(cov))/((b_ret-rf)*(s_sd**2)+(s_ret-rf)*(b_sd**2)-((b_ret-rf)+(s_ret-rf))*cov)"
   ]
  },
  {
   "cell_type": "markdown",
   "id": "bcaf1f47-622b-4528-b24f-9d7231d0f530",
   "metadata": {},
   "source": [
    "(g): see below\n",
    "<img src=\"julanna.jpeg\" alt=\"Alternative text\" />\n",
    "We conclude that investing in the risk free fund (money markets) is more optimal in terms of expected return and allocating everything to the risky fund is not"
   ]
  },
  {
   "cell_type": "markdown",
   "id": "7f26e510-320a-4dce-b3c4-0c75da8d08ac",
   "metadata": {},
   "source": [
    "# Problem 5\n",
    "Let RB be the rate of excess return on the bond fund and RS be the rate of return on\n",
    "the stock fund. Let the variance of RB be σ2B, the variance of RS be σ2S, and the covariance\n",
    "between RB and RS be Cov(RB,RS).\n",
    "Suppose a portfolio has wB proportion invested in the bond fund and the remainder\n",
    "wS = 1 −wB in the stock fund. Show that the weight wB that maximizes the Sharpe ratio\n",
    "equals"
   ]
  },
  {
   "cell_type": "markdown",
   "id": "9051ddc9-e6a1-4cda-868c-6263dd8db645",
   "metadata": {},
   "source": [
    "<img src=\"HW_2_Problem_5-1.jpg\" alt=\"Alternative text\" />"
   ]
  }
 ],
 "metadata": {
  "kernelspec": {
   "display_name": "Python 3 (ipykernel)",
   "language": "python",
   "name": "python3"
  },
  "language_info": {
   "codemirror_mode": {
    "name": "ipython",
    "version": 3
   },
   "file_extension": ".py",
   "mimetype": "text/x-python",
   "name": "python",
   "nbconvert_exporter": "python",
   "pygments_lexer": "ipython3",
   "version": "3.10.9"
  }
 },
 "nbformat": 4,
 "nbformat_minor": 5
}
