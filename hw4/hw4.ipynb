{
 "cells": [
  {
   "cell_type": "code",
   "execution_count": 1,
   "id": "4a5bfe24-d568-44cd-b390-f4bfa3934a8c",
   "metadata": {},
   "outputs": [],
   "source": [
    "import numpy as np\n",
    "import pandas as pd "
   ]
  },
  {
   "cell_type": "markdown",
   "id": "883e95ce-2a3d-4570-9039-c6f541e2b44b",
   "metadata": {},
   "source": [
    "# Question 1"
   ]
  },
  {
   "cell_type": "code",
   "execution_count": 49,
   "id": "a87ed5ed-d80f-4d89-9faf-098ff2db87f7",
   "metadata": {},
   "outputs": [],
   "source": [
    "cr = 8\n",
    "price = 950\n",
    "par = 1000\n",
    "rs = [0.08, 0.10, 0.2]\n",
    "T = 3"
   ]
  },
  {
   "cell_type": "code",
   "execution_count": 72,
   "id": "b1b3d2f5-d5e5-4bcd-b8f1-02a4365a6401",
   "metadata": {},
   "outputs": [
    {
     "name": "stdout",
     "output_type": "stream",
     "text": [
      "Bond YTM: 10.010962045040047% || Via bisection: 9.3750%\n"
     ]
    }
   ],
   "source": [
    "# Calculating yield to maturity\n",
    "import scipy.optimize as optimize\n",
    "\n",
    "def bond_ytm(price, par, T, coup, freq=2, guess=0.001):\n",
    "    freq = float(freq)\n",
    "    periods = T*freq\n",
    "    coupon = coup/100.*par\n",
    "    dt = [(i+1)/freq for i in range(int(periods))]\n",
    "    ytm_func = lambda y: \\\n",
    "        sum([coupon/freq/(1+y/freq)**(freq*t) for t in dt]) +\\\n",
    "        par/(1+y/freq)**(freq*T) - price\n",
    "\n",
    "    return optimize.newton(ytm_func, guess)\n",
    "\n",
    "def bond_ytm_bisect(price, par, T, coup, freq=2, a=0, b=1):\n",
    "    freq = float(freq)\n",
    "    periods = T*freq\n",
    "    coupon = coup/100.*par\n",
    "    dt = [(i+1)/freq for i in range(int(periods))]\n",
    "    ytm_func = lambda y: \\\n",
    "        sum([coupon/freq/(1+y/freq)**(freq*t) for t in dt]) +\\\n",
    "        par/(1+y/freq)**(freq*T) - price\n",
    "\n",
    "    return optimize.bisect(ytm_func, 0,1, maxiter=5,disp=False)\n",
    "ytm, ytm_bi= bond_ytm(price, par, time_span, 8, freq=1), bond_ytm_bisect(price, par, T, 8, freq=1)\n",
    "print(f'Bond YTM: {ytm*100}% || Via bisection: {ytm_bi*100:.4f}%')"
   ]
  },
  {
   "cell_type": "code",
   "execution_count": 51,
   "id": "bcba7bf5-99dd-43ea-b2c3-6b5303501b2e",
   "metadata": {},
   "outputs": [
    {
     "name": "stdout",
     "output_type": "stream",
     "text": [
      "Realzied Compound Yield: 10.0110%\n"
     ]
    }
   ],
   "source": [
    "# Calculating realized compound yield\n",
    "vt = par_value*((1+ytm)**T)\n",
    "rcy = ((vt/par_value)**(1/T))-1\n",
    "print(f'Realzied Compound Yield: {rcy*100:.4f}%')"
   ]
  },
  {
   "cell_type": "code",
   "execution_count": 71,
   "id": "420534ed-cb30-4abd-8043-8adfa2ee30bc",
   "metadata": {},
   "outputs": [
    {
     "data": {
      "text/plain": [
       "1032.8948122533648"
      ]
     },
     "execution_count": 71,
     "metadata": {},
     "output_type": "execute_result"
    }
   ],
   "source": [
    "def bond(par, T, ytm, coup, freq=1):\n",
    "    freq = float(freq)\n",
    "    periods = T*freq\n",
    "    coupon = coup/100.*par\n",
    "    rate = ytm/100.\n",
    "    dt = [(i+1)/freq for i in range(int(periods))]\n",
    "    return sum([coup/freq/((1+rate/freq)**(freq*T)) for t in dt]) +\\\n",
    "            par/((1+rate)**(freq*T)) \n",
    "\n",
    "bond_value(1000, 3, ytm, 12)\n",
    "    "
   ]
  }
 ],
 "metadata": {
  "kernelspec": {
   "display_name": "Python 3 (ipykernel)",
   "language": "python",
   "name": "python3"
  },
  "language_info": {
   "codemirror_mode": {
    "name": "ipython",
    "version": 3
   },
   "file_extension": ".py",
   "mimetype": "text/x-python",
   "name": "python",
   "nbconvert_exporter": "python",
   "pygments_lexer": "ipython3",
   "version": "3.10.10"
  }
 },
 "nbformat": 4,
 "nbformat_minor": 5
}
