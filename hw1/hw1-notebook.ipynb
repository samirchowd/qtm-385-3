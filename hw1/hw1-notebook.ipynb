{
 "cells": [
  {
   "cell_type": "code",
   "execution_count": 1,
   "id": "ba95ddee-5a81-4439-923c-d89870491737",
   "metadata": {},
   "outputs": [],
   "source": [
    "import numpy as np\n",
    "import pandas as pd"
   ]
  },
  {
   "cell_type": "markdown",
   "id": "3b7ba703-76d5-428c-b5bf-21494a7f4cde",
   "metadata": {},
   "source": [
    "Authors: Samir Chowdhury, Julanna Zhang, Cathy Zhuang"
   ]
  },
  {
   "cell_type": "markdown",
   "id": "f759466b-be3d-485a-bb86-4f5138f9fb4e",
   "metadata": {},
   "source": [
    "# Question 1\n",
    "Lanni Products is a start-up computer software development firm. It currently owns computer equipment worth 30,000 and has cash on hand of 20,000 contributed by Lanni’s owners. For each of the following transactions, identify the real and/or financial assets that trade hands. Are any financial assets created or destroyed in the transaction?\n",
    "- (a) [4pts] Lanni takes out a bank loan. It receives \\$50,000 in cash and signs a note promising to pay back the loan over 3 years.\n",
    "- (b) [4pts] Lanni uses the cash from the bank plus \\$20,000 of its own funds to finance the development of new financial planning software.\n",
    "- (c) [4pts] Lanni sells the software product to Microsoft, which will market it to the public under the Microsoft name. Lanni accepts payment in the form of 1,250 shares of Microsoft stock.\n",
    "- (d) [4pts] Lanni sells the shares of stock for $100 per share and uses part of the proceeds to pay off the bank loan."
   ]
  },
  {
   "cell_type": "markdown",
   "id": "a3b07d1c-49ea-470a-a91f-0c70a3a432e5",
   "metadata": {},
   "source": [
    "FA = Financial Asset, RA = Real Asset\n",
    "- (a) The bank loan is an FA\n",
    "- (b) Lanni trades an FA of cash for an RA of the software\n",
    "- (c) Lanni trades the RA of intellectual property of the software for an FA that is equity in MSFT\n",
    "- (d) Lanni trades the FA of equity for the FA of cash and trades that FA of cash to destroy the FA the bank had which was her debt to them."
   ]
  },
  {
   "cell_type": "markdown",
   "id": "eab03393-f2ea-4ece-a9b6-2f7843ba0d03",
   "metadata": {},
   "source": [
    "# Question 2\n",
    "Find the equivalent taxable yield of a short-term municipal bond with a yield of 3% for tax brackets of\n",
    "- (a) [3pts] zero \n",
    "- (b) [3pts] 10% \n",
    "- (c) [3pts] 20%\n",
    "- (d) [3pts] 40%\n",
    "\n",
    "Why are high-tax-bracket investors more inclined to invest in municipal bonds than low- bracket investors? [4pts]\n"
   ]
  },
  {
   "cell_type": "markdown",
   "id": "a0473724-ecee-4110-9351-0691ce902bb3",
   "metadata": {},
   "source": [
    "Formula for taxable equivalent yield:\\\n",
    "$r_{taxable}(1-t)=r_{muni}$ or $r_{taxable}=\\frac{r_{muni}}{(1-t)}$ where $t=$ marginal tax bracket"
   ]
  },
  {
   "cell_type": "code",
   "execution_count": 2,
   "id": "fe6cbf31-1f80-49b0-90a6-2c01021f9e07",
   "metadata": {},
   "outputs": [],
   "source": [
    "# Define function to find taxable yield given tax brackets \n",
    "def taxable_yield(tax_rate, te_yield=0.03):\n",
    "    return te_yield/(1-tax_rate)    "
   ]
  },
  {
   "cell_type": "code",
   "execution_count": 3,
   "id": "cbbd21eb-01dd-478a-8e19-1e55f9581a56",
   "metadata": {},
   "outputs": [
    {
     "name": "stdout",
     "output_type": "stream",
     "text": [
      "Tax Bracket: 0 -> Equivalent Taxable Yield: 0.03\n",
      "Tax Bracket: 0.1 -> Equivalent Taxable Yield: 0.03333333333333333\n",
      "Tax Bracket: 0.2 -> Equivalent Taxable Yield: 0.0375\n",
      "Tax Bracket: 0.4 -> Equivalent Taxable Yield: 0.05\n"
     ]
    }
   ],
   "source": [
    "# Test the yield for multiple tax brackets\n",
    "for tax_rate in [0, .1, .2, .4]:\n",
    "    print(f'Tax Bracket: {tax_rate} -> Equivalent Taxable Yield: {taxable_yield(tax_rate)}')"
   ]
  },
  {
   "cell_type": "markdown",
   "id": "71693d7a-fb4e-4e1b-a522-d6c31566d2df",
   "metadata": {},
   "source": [
    "# Question 3\n",
    "Looking at the Treasury bond maturing in Feb 2036 at the $1,000 par value in Figure 1\n",
    "- (a) [3pts] How much would you have to pay to purchase one of these bonds?\n",
    "- (b) [3pts] How much would you get to sell one of these bonds?\n",
    "- (c) [3pts] What was its ask price the previous day?\n",
    "- (d) [3pts] What is its coupon rate? If the bond makes semiannual coupon payments, then how much would you get in each coupon payment?\n",
    "![image](./fig1.png) \\\n",
    "Figure 1: BID, ASKED and CHANGE columns are quoted as a percentage of par.\n"
   ]
  },
  {
   "cell_type": "code",
   "execution_count": 4,
   "id": "cd41a4a6-019c-4207-ad49-58eee830f979",
   "metadata": {},
   "outputs": [],
   "source": [
    "# Define a function to calculate bid and ask price of a bond\n",
    "def bid_price(bid_yield, par_value):\n",
    "    return bid_yield * par_value\n",
    "\n",
    "def ask_price(ask_yield, par_value):\n",
    "    return ask_yield * par_value        "
   ]
  },
  {
   "cell_type": "code",
   "execution_count": 5,
   "id": "10551df1-a79b-4960-9d67-0cd4d8ec6f99",
   "metadata": {},
   "outputs": [
    {
     "name": "stdout",
     "output_type": "stream",
     "text": [
      "For a T-Bond w/ Par Value: $1000 maturing on Feb 2036\n",
      "(a): Bid Price: $1254.69       \n",
      "(b): Ask Price: $1255.31\n"
     ]
    }
   ],
   "source": [
    "# Run the functions to find the bid and ask prices\n",
    "print(f'For a T-Bond w/ Par Value: $1000 maturing on Feb 2036\\n(a): Bid Price: ${bid_price(1.254688, 1000):.2f} \\\n",
    "      \\n(b): Ask Price: ${ask_price(1.255313, 1000):.2f}')"
   ]
  },
  {
   "cell_type": "code",
   "execution_count": 6,
   "id": "1b1d3469-0f79-4717-99b7-186b964aa66b",
   "metadata": {},
   "outputs": [
    {
     "name": "stdout",
     "output_type": "stream",
     "text": [
      "New Ask Yield for One Day Prior: 125.5313-1.5391 = 123.9922\n",
      "(c): Prior Day Asking Price: $1239.92\n"
     ]
    }
   ],
   "source": [
    "# Calulate the previous ask yield off the change column and run the function again\n",
    "print(f'New Ask Yield for One Day Prior: 125.5313-1.5391 = {125.5313-1.5391}\\n\\\n",
    "(c): Prior Day Asking Price: ${ask_price((125.5313-1.5391)/100, 1000):.2f}')"
   ]
  },
  {
   "cell_type": "code",
   "execution_count": 7,
   "id": "2bc98bea-8253-4133-8581-cde93cf81033",
   "metadata": {},
   "outputs": [],
   "source": [
    "# Define function to calculate coupon payments\n",
    "def coupon_payment(coupon_rate, par_value):\n",
    "    return coupon_rate * par_value"
   ]
  },
  {
   "cell_type": "code",
   "execution_count": 8,
   "id": "5602f58c-f75c-4915-86c8-d4a26ea23f12",
   "metadata": {},
   "outputs": [
    {
     "name": "stdout",
     "output_type": "stream",
     "text": [
      "The coupon rate is the annual yield the bond will pay out based off its par value\n",
      "(d): Semi Annual Payment for $1000 T-Bond w/ Coupon Rate of 6.125: $30.62\n"
     ]
    }
   ],
   "source": [
    "# Find the coupon payment and divide by 2 for the semiannual payment\n",
    "print('The coupon rate is the annual yield the bond will pay out based off its par value')\n",
    "print(f'(d): Semi Annual Payment for $1000 T-Bond w/ Coupon Rate of 6.125: ${coupon_payment(.06125, 1000)/2:.2f}')"
   ]
  },
  {
   "cell_type": "markdown",
   "id": "92dbfff2-558e-4f46-b093-5e6bf8e276ea",
   "metadata": {},
   "source": [
    "# Question 4\n",
    "Looking at the listing for Hess Midstream Partners in Figure 2\n",
    "- (a) [4pts] How many shares could you buy for $1,000? Truncate the number of shares to an integer.\n",
    "- (b) [4pts] What would be your annual dividend income from those shares?\n",
    "- (c) [4pts] What must be Hess Midstream Partners’ earnings per share?\n",
    "- (d) [4pts] What was the firm’s closing price on the day before the listing?\n",
    "![image](./fig2.png)\n",
    "Figure 2: Listing of stocks traded on the New York Stock Exchange."
   ]
  },
  {
   "cell_type": "code",
   "execution_count": 9,
   "id": "55d66f16-ab85-4f56-8a6d-c25dfcc54315",
   "metadata": {},
   "outputs": [
    {
     "name": "stdout",
     "output_type": "stream",
     "text": [
      "(a): # of purchasable stocks for HESM for $1000: 55.0\n"
     ]
    }
   ],
   "source": [
    "# (a) integer divide closing price by $1000 \n",
    "print(f'(a): # of purchasable stocks for HESM for $1000: {1000//17.87}')"
   ]
  },
  {
   "cell_type": "code",
   "execution_count": 10,
   "id": "79e85c42-9cad-45fd-b371-a469b8141918",
   "metadata": {},
   "outputs": [
    {
     "name": "stdout",
     "output_type": "stream",
     "text": [
      "(b): Annual Dividend Yield: $18.13\n"
     ]
    }
   ],
   "source": [
    "# (b) Define function to find dividend yield and print \n",
    "def div_yield(stock_price, div_rate):\n",
    "    return stock_price * ((div_rate/100) + 1)\n",
    "print(f'(b): Annual Dividend Yield: ${div_yield(17.87, 1.43):.2f}')"
   ]
  },
  {
   "cell_type": "markdown",
   "id": "c421854a-0673-4814-94bf-8e589bc55fe7",
   "metadata": {},
   "source": [
    "To find the Earnings Per Share, we use the following formula \n",
    "\n",
    "$P/E = \\frac{Stock Price}{Earnings Per Share}$\n",
    "\n",
    "We rearrange it to solve for Earnings Per Share\n",
    "\n",
    "$Earnings Per Share = \\frac{Stock Price}{P/E}$\n",
    "\n",
    "Which in our case would result in \n",
    "\n",
    "$Earnings Per Share = \\frac{17.87}{14.60}$"
   ]
  },
  {
   "cell_type": "code",
   "execution_count": 11,
   "id": "1357d914-b52a-4e18-aa93-c5eb4a33a4ea",
   "metadata": {},
   "outputs": [
    {
     "name": "stdout",
     "output_type": "stream",
     "text": [
      "(c): Earnings Per Share: $1.22\n"
     ]
    }
   ],
   "source": [
    "# (c) Print out earnings per share \n",
    "print(f'(c): Earnings Per Share: ${17.87/14.60:.2f}')"
   ]
  },
  {
   "cell_type": "code",
   "execution_count": 12,
   "id": "36a1961f-e5b5-4820-bca8-f3a28341fe05",
   "metadata": {},
   "outputs": [
    {
     "name": "stdout",
     "output_type": "stream",
     "text": [
      "(d): Previous day's close: $17.61\n"
     ]
    }
   ],
   "source": [
    "# (d) Subtract net change from today's close to get closing price\n",
    "print(f'(d): Previous day\\'s close: ${(17.86-0.25):.2f}')"
   ]
  },
  {
   "cell_type": "markdown",
   "id": "d59daf9f-19a3-4621-a1aa-7e339b459f94",
   "metadata": {},
   "source": [
    "# Question 5 \n",
    "Consider the three stocks in the following table. Pt represents price at time t, and Qt represents shares outstanding at time t. Stock Z splits two for one in the last period. \\\n",
    "![image](./fig3.png) \\ \n",
    "- (a) [5pts] Calculate the rate of return on a price-weighted index of the three stocks for the first period (t = 0 to t = 1).\n",
    "- (b) [5pts] What must happen to the divisor for the price-weighted index in year 2?\n",
    "- (c) [5pts] Calculate the rate of return for the second period (t = 1 to t = 2). \\\n",
    "\n",
    "Calculate the first-period rates of return on the following indexes of the three stocks: \n",
    "- (a) [5pts] A market-value-weighted index.\n",
    "- (b) [5pts] An equally weighted index."
   ]
  },
  {
   "cell_type": "code",
   "execution_count": 13,
   "id": "72a062fe-6917-4c4e-b1e5-4e6f51340bbd",
   "metadata": {},
   "outputs": [
    {
     "name": "stdout",
     "output_type": "stream",
     "text": [
      "PWA at t=0: $160.00\n",
      "PWA at t=1: $171.67\n",
      "(a): RoR on PWA from t=0 to t=1: 7.29%\n"
     ]
    }
   ],
   "source": [
    "# (a) Store table in array \n",
    "prices = [[100, 95, 95], [200, 220, 220], [180, 200, 100]]\n",
    "volume = [[200, 200, 200], [100, 100, 100], [200, 200, 400]]\n",
    "\n",
    "# Calculate the PWA of each column using defined function\n",
    "def price_weighted_average(prices, time, divisor=len(prices)):\n",
    "    prices_at_time = [i[time] for i in prices]\n",
    "    return np.sum(prices_at_time)/divisor\n",
    "\n",
    "pwa_0, pwa_1 = price_weighted_average(prices, 0), price_weighted_average(prices, 1)\n",
    "print(f'PWA at t=0: ${pwa_0:.2f}')\n",
    "print(f'PWA at t=1: ${pwa_1:.2f}')\n",
    "print(f'(a): RoR on PWA from t=0 to t=1: {((pwa_1-pwa_0)/pwa_0)*100:.2f}%')"
   ]
  },
  {
   "cell_type": "markdown",
   "id": "816687d7-1317-4514-8ee6-0245fa6288e8",
   "metadata": {},
   "source": [
    "(b) The divisor must decrease due to the stock split. This is because since the price of the stock has halved, the divisor must decrease to maintain the same price weighted average. We solve for the divisor below:"
   ]
  },
  {
   "cell_type": "code",
   "execution_count": 14,
   "id": "6942ea95-09ba-4b72-974b-23e2b2e9cda0",
   "metadata": {},
   "outputs": [
    {
     "name": "stdout",
     "output_type": "stream",
     "text": [
      "Original Divisor: 3, New Divisor: 2.41747572815534\n"
     ]
    }
   ],
   "source": [
    "pwa_pre_split = price_weighted_average(prices, time=1)\n",
    "d = np.sum([i[2] for i in prices])/pwa_pre_split\n",
    "print(f'Original Divisor: {len(prices)}, New Divisor: {d}')"
   ]
  },
  {
   "cell_type": "code",
   "execution_count": 15,
   "id": "04f0eb8f-aa39-4a5e-8375-0633c1a9c04d",
   "metadata": {},
   "outputs": [
    {
     "name": "stdout",
     "output_type": "stream",
     "text": [
      "PWA, t=1, d=3.000: $171.67\n",
      "PWA, t=2, d=2.417: $171.67\n",
      "(c): RoR on PWA from t=1 to t=2 w/ Stock Split: 0.00\n"
     ]
    }
   ],
   "source": [
    "# (c) Rate of Return from t=1 to t=2 w/ Stock Split\n",
    "pwa_1 = price_weighted_average(prices, 1)\n",
    "pwa_2 = price_weighted_average(prices, 2, d)\n",
    "print(f'PWA, t=1, d={len(prices):.3f}: ${pwa_1:.2f}\\nPWA, t=2, d={d:.3f}: ${pwa_2:.2f}')\n",
    "print(f'(c): RoR on PWA from t=1 to t=2 w/ Stock Split: {((pwa_2-pwa_1)/pwa_1)*100:.2f}')"
   ]
  },
  {
   "cell_type": "code",
   "execution_count": 19,
   "id": "da3f306d-3000-45d1-8e2f-4c6fe2dd1449",
   "metadata": {},
   "outputs": [
    {
     "name": "stdout",
     "output_type": "stream",
     "text": [
      "(a): RoR on EWA from t=0 to t=1: 5.37%\n"
     ]
    }
   ],
   "source": [
    "# (a) First Period Return Rate on MWA\n",
    "def equally_weighted_average_ror(prices, time1, time2):\n",
    "    prices_at_time1 = np.asarray([i[time1] for i in prices])\n",
    "    prices_at_time2 = np.asarray([i[time2] for i in prices])\n",
    "    ratios = prices_at_time2 / prices_at_time1\n",
    "    return np.mean(ratios)-1\n",
    "\n",
    "print(f'(a): RoR on EWA from t=0 to t=1: {equally_weighted_average_ror(prices, 0,1)*100:.2f}%') "
   ]
  },
  {
   "cell_type": "markdown",
   "id": "7a1ccc32-bfcd-40f0-bd70-1907efb1022d",
   "metadata": {},
   "source": [
    "# Question 6\n",
    "Suppose you buy a February 2023 expiration Apple call option with an exercise price $135.\n",
    "- (a) [5pts] Suppose the stock price in September is 140. Will you exercise your call? What is the profit of your position? You can ignore the price of the call.\n",
    "- (b) [5pts] What if you had bought the February 2023 call with exercise price 145?\n",
    "- (c) [5pts] What if you had bought a February 2023 put with exercise price 145?"
   ]
  },
  {
   "cell_type": "markdown",
   "id": "d56ae8fb-c773-4b2d-89cc-0f81824b87fc",
   "metadata": {},
   "source": [
    "(a) Given an exercise price of 135, I will exercise the call if the price in currently 140 because the current price is higher than the strike price. I will profit 140-135 = 5 dollars from exercising the call not accounting for the price of the call.\n",
    "\n",
    "(b) If the exercise price had been 145, I would not exercise the call because the strike price is lower than the current price. If I were to exercise, I would be buying the stock at 145 when it is currently valued at 140, thus losing me 5 dollars.\n",
    "\n",
    "(c) If I had bought a put option with an exercise price at 145, I would exercise the option. I would be able to sell my share for 145 when the share is currently valued at 140, thus resulting in 5 dollar profit. "
   ]
  }
 ],
 "metadata": {
  "kernelspec": {
   "display_name": "Python 3 (ipykernel)",
   "language": "python",
   "name": "python3"
  },
  "language_info": {
   "codemirror_mode": {
    "name": "ipython",
    "version": 3
   },
   "file_extension": ".py",
   "mimetype": "text/x-python",
   "name": "python",
   "nbconvert_exporter": "python",
   "pygments_lexer": "ipython3",
   "version": "3.10.9"
  }
 },
 "nbformat": 4,
 "nbformat_minor": 5
}
