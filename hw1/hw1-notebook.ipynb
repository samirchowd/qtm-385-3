{
 "cells": [
  {
   "cell_type": "code",
   "execution_count": 1,
   "id": "ba95ddee-5a81-4439-923c-d89870491737",
   "metadata": {},
   "outputs": [],
   "source": [
    "import numpy as np\n",
    "import pandas as pd"
   ]
  },
  {
   "cell_type": "markdown",
   "id": "f759466b-be3d-485a-bb86-4f5138f9fb4e",
   "metadata": {},
   "source": [
    "# Question 1\n",
    "Lanni Products is a start-up computer software development firm. It currently owns computer equipment worth 30,000 and has cash on hand of 20,000 contributed by Lanni’s owners. For each of the following transactions, identify the real and/or financial assets that trade hands. Are any financial assets created or destroyed in the transaction?\n",
    "- (a) [4pts] Lanni takes out a bank loan. It receives \\$50,000 in cash and signs a note promising to pay back the loan over 3 years.\n",
    "- (b) [4pts] Lanni uses the cash from the bank plus \\$20,000 of its own funds to finance the development of new financial planning software.\n",
    "- (c) [4pts] Lanni sells the software product to Microsoft, which will market it to the public under the Microsoft name. Lanni accepts payment in the form of 1,250 shares of Microsoft stock.\n",
    "- (d) [4pts] Lanni sells the shares of stock for $100 per share and uses part of the proceeds to pay off the bank loan."
   ]
  },
  {
   "cell_type": "markdown",
   "id": "a3b07d1c-49ea-470a-a91f-0c70a3a432e5",
   "metadata": {},
   "source": [
    "FA = Financial Asset, RA = Real Asset\n",
    "- (a) The bank loan is an FA\n",
    "- (b) Lanni trades an FA of cash for an RA of the software\n",
    "- (c) Lanni trades the RA of intellectual property of the software for an FA that is equity in MSFT\n",
    "- (d) Lanni trades the FA of equity for the FA of cash and trades that FA of cash to destroy the FA the bank had which was her debt to them."
   ]
  },
  {
   "cell_type": "markdown",
   "id": "eab03393-f2ea-4ece-a9b6-2f7843ba0d03",
   "metadata": {},
   "source": [
    "# Question 2\n",
    "Find the equivalent taxable yield of a short-term municipal bond with a yield of 3% for tax brackets of\n",
    "- (a) [3pts] zero \n",
    "- (b) [3pts] 10% \n",
    "- (c) [3pts] 20%\n",
    "- (d) [3pts] 40%\n",
    "\n",
    "Why are high-tax-bracket investors more inclined to invest in municipal bonds than low- bracket investors? [4pts]\n"
   ]
  },
  {
   "cell_type": "markdown",
   "id": "a0473724-ecee-4110-9351-0691ce902bb3",
   "metadata": {},
   "source": [
    "Formula for taxable equivalent yield:\\\n",
    "$r_{taxable}(1-t)=r_{muni}$ or $r_{taxable}=\\frac{r_{muni}}{(1-t)}$ where $t=$ marginal tax bracket"
   ]
  },
  {
   "cell_type": "code",
   "execution_count": 3,
   "id": "fe6cbf31-1f80-49b0-90a6-2c01021f9e07",
   "metadata": {},
   "outputs": [],
   "source": [
    "# Define function to find taxable yield given tax brackets \n",
    "def taxable_yield(tax_rate, te_yield=0.03):\n",
    "    return te_yield/(1-tax_rate)    "
   ]
  },
  {
   "cell_type": "code",
   "execution_count": 4,
   "id": "cbbd21eb-01dd-478a-8e19-1e55f9581a56",
   "metadata": {},
   "outputs": [
    {
     "name": "stdout",
     "output_type": "stream",
     "text": [
      "Tax Bracket: 0 -> Equivalent Taxable Yield: 0.03\n",
      "Tax Bracket: 0.1 -> Equivalent Taxable Yield: 0.03333333333333333\n",
      "Tax Bracket: 0.2 -> Equivalent Taxable Yield: 0.0375\n",
      "Tax Bracket: 0.4 -> Equivalent Taxable Yield: 0.05\n"
     ]
    }
   ],
   "source": [
    "# Test the yield for multiple tax brackets\n",
    "for tax_rate in [0, .1, .2, .4]:\n",
    "    print(f'Tax Bracket: {tax_rate} -> Equivalent Taxable Yield: {taxable_yield(tax_rate)}')"
   ]
  },
  {
   "cell_type": "markdown",
   "id": "71693d7a-fb4e-4e1b-a522-d6c31566d2df",
   "metadata": {},
   "source": [
    "# Question 3\n",
    "Looking at the Treasury bond maturing in Feb 2036 at the $1,000 par value in Figure 1\n",
    "- (a) [3pts] How much would you have to pay to purchase one of these bonds?\n",
    "- (b) [3pts] How much would you get to sell one of these bonds?\n",
    "- (c) [3pts] What was its ask price the previous day?\n",
    "- (d) [3pts] What is its coupon rate? If the bond makes semiannual coupon payments, then how much would you get in each coupon payment?\n",
    "![image](./fig1.png) \\\n",
    "Figure 1: BID, ASKED and CHANGE columns are quoted as a percentage of par.\n"
   ]
  },
  {
   "cell_type": "code",
   "execution_count": 6,
   "id": "cd41a4a6-019c-4207-ad49-58eee830f979",
   "metadata": {},
   "outputs": [],
   "source": [
    "# Define a function to calculate bid and ask price of a bond\n",
    "def bid_price(bid_yield, par_value):\n",
    "    return bid_yield * par_value\n",
    "\n",
    "def ask_price(ask_yield, par_value):\n",
    "    return ask_yield * par_value        "
   ]
  },
  {
   "cell_type": "code",
   "execution_count": 22,
   "id": "10551df1-a79b-4960-9d67-0cd4d8ec6f99",
   "metadata": {},
   "outputs": [
    {
     "name": "stdout",
     "output_type": "stream",
     "text": [
      "For a T-Bond w/ Par Value: $1000 maturing on Feb 2036\n",
      "(a): Bid Price: $1254.69       \n",
      "(b): Ask Price: $1255.31\n"
     ]
    }
   ],
   "source": [
    "# Run the functions to find the bid and ask prices\n",
    "print(f'For a T-Bond w/ Par Value: $1000 maturing on Feb 2036\\n(a): Bid Price: ${bid_price(1.254688, 1000):.2f} \\\n",
    "      \\n(b): Ask Price: ${ask_price(1.255313, 1000):.2f}')"
   ]
  },
  {
   "cell_type": "code",
   "execution_count": 32,
   "id": "1b1d3469-0f79-4717-99b7-186b964aa66b",
   "metadata": {},
   "outputs": [
    {
     "name": "stdout",
     "output_type": "stream",
     "text": [
      "New Ask Yield for One Day Prior: 125.5313-1.5391 = 123.9922\n",
      "(c): Prior Day Asking Price: $1239.92\n"
     ]
    }
   ],
   "source": [
    "# Calulate the previous ask yield off the change column and run the function again\n",
    "print(f'New Ask Yield for One Day Prior: 125.5313-1.5391 = {125.5313-1.5391}\\n\\\n",
    "(c): Prior Day Asking Price: ${ask_price((125.5313-1.5391)/100, 1000):.2f}')"
   ]
  },
  {
   "cell_type": "code",
   "execution_count": 34,
   "id": "2bc98bea-8253-4133-8581-cde93cf81033",
   "metadata": {},
   "outputs": [],
   "source": [
    "# Define function to calculate coupon payments\n",
    "def coupon_payment(coupon_rate, par_value):\n",
    "    return coupon_rate * par_value"
   ]
  },
  {
   "cell_type": "code",
   "execution_count": 37,
   "id": "5602f58c-f75c-4915-86c8-d4a26ea23f12",
   "metadata": {},
   "outputs": [
    {
     "name": "stdout",
     "output_type": "stream",
     "text": [
      "The coupon rate is the annual yield the bond will pay out based off its par value\n",
      "(d): Semi Annual Payment for $1000 T-Bond w/ Coupon Rate of 6.125: $30.62\n"
     ]
    }
   ],
   "source": [
    "# Find the coupon payment and divide by 2 for the semiannual payment\n",
    "print('The coupon rate is the annual yield the bond will pay out based off its par value')\n",
    "print(f'(d): Semi Annual Payment for $1000 T-Bond w/ Coupon Rate of 6.125: ${coupon_payment(.06125, 1000)/2:.2f}')"
   ]
  },
  {
   "cell_type": "markdown",
   "id": "92dbfff2-558e-4f46-b093-5e6bf8e276ea",
   "metadata": {},
   "source": [
    "# Question 4\n",
    "Looking at the listing for Hess Midstream Partners in Figure 2\n",
    "- (a) [4pts] How many shares could you buy for $1,000? Truncate the number of shares to an integer.\n",
    "- (b) [4pts] What would be your annual dividend income from those shares?\n",
    "- (c) [4pts] What must be Hess Midstream Partners’ earnings per share?\n",
    "- (d) [4pts] What was the firm’s closing price on the day before the listing?\n",
    "![image](./fig2.png)\n",
    "Figure 2: Listing of stocks traded on the New York Stock Exchange."
   ]
  },
  {
   "cell_type": "markdown",
   "id": "d59daf9f-19a3-4621-a1aa-7e339b459f94",
   "metadata": {},
   "source": [
    "# Question 5 \n",
    "Consider the three stocks in the following table. Pt represents price at time t, and Qt represents shares outstanding at time t. Stock Z splits two for one in the last period. \\\n",
    "![image](./fig3.png) \\ \n",
    "- (a) [5pts] Calculate the rate of return on a price-weighted index of the three stocks for the first period (t = 0 to t = 1).\n",
    "- (b) [5pts] What must happen to the divisor for the price-weighted index in year 2?\n",
    "- (c) [5pts] Calculate the rate of return for the second period (t = 1 to t = 2). \\\n",
    "\n",
    "Calculate the first-period rates of return on the following indexes of the three stocks: \n",
    "- (a) [5pts] A market-value-weighted index.\n",
    "- (b) [5pts] An equally weighted index."
   ]
  },
  {
   "cell_type": "markdown",
   "id": "7a1ccc32-bfcd-40f0-bd70-1907efb1022d",
   "metadata": {},
   "source": [
    "# Question 6\n",
    "Suppose you buy a February 2023 expiration Apple call option with an exercise price $135.\n",
    "- (a) [5pts] Suppose the stock price in September is 140. Will you exercise your call? What is the profit of your position? You can ignore the price of the call.\n",
    "- (b) [5pts] What if you had bought the February 2023 call with exercise price 145?\n",
    "- (c) [5pts] What if you had bought a February 2023 put with exercise price 145?"
   ]
  }
 ],
 "metadata": {
  "kernelspec": {
   "display_name": "Python 3 (ipykernel)",
   "language": "python",
   "name": "python3"
  },
  "language_info": {
   "codemirror_mode": {
    "name": "ipython",
    "version": 3
   },
   "file_extension": ".py",
   "mimetype": "text/x-python",
   "name": "python",
   "nbconvert_exporter": "python",
   "pygments_lexer": "ipython3",
   "version": "3.10.9"
  }
 },
 "nbformat": 4,
 "nbformat_minor": 5
}
